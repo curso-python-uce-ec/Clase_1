{
  "nbformat": 4,
  "nbformat_minor": 0,
  "metadata": {
    "colab": {
      "name": "Deber1.ipynb",
      "provenance": []
    },
    "kernelspec": {
      "name": "python3",
      "display_name": "Python 3"
    },
    "language_info": {
      "name": "python"
    }
  },
  "cells": [
    {
      "cell_type": "markdown",
      "source": [
        "1 Suponga que tiene una lista [1, 2, 3, 2, 1] y desea crear una nueva lista sin números dobles, después de resolver este problema, intente reescribirla como una sola línea. Un one liner en programación es un programa existente de una sola línea. Si no logras escribir una sola línea, no te preocupes. el codigo one liner es a menudo difícile de leer y, como hemos aprendido esta semana: los lenguajes de programación están destinados a ser legibles para las personas. Así que no te preocupes si estás usando demasiado código para resolver un problema, debes preguntarte: ¿yo o alguien más entenderá esto dentro de 3 años?"
      ],
      "metadata": {
        "id": "wJA0Vmv_8Y5K"
      }
    },
    {
      "cell_type": "code",
      "source": [
        "from typing import List\n",
        "def eliminar_duplicados(lista):\n",
        "    nueva_lista = []\n",
        "    for elemento in lista:\n",
        "        if not elemento in nueva_lista:\n",
        "            nueva_lista.append(elemento)\n",
        "    return nueva_lista\n",
        "\n",
        "lista = [1,2,3,2,1]\n",
        "sin_duplicados = eliminar_duplicados(lista)\n",
        "print(\"Original: \")\n",
        "print(lista)\n",
        "print(\"Sin repetidos\")\n",
        "print(sin_duplicados)\n"
      ],
      "metadata": {
        "colab": {
          "base_uri": "https://localhost:8080/"
        },
        "id": "TMDgcTlh8czK",
        "outputId": "4d6c7198-23ef-4d39-a2fa-a203eb88f03b"
      },
      "execution_count": null,
      "outputs": [
        {
          "output_type": "stream",
          "name": "stdout",
          "text": [
            "Original: \n",
            "[1, 2, 3, 2, 1]\n",
            "Sin repetidos\n",
            "[1, 2, 3]\n"
          ]
        }
      ]
    },
    {
      "cell_type": "markdown",
      "source": [
        "2 Slicing puede tener 3 parámetros, inicio, final y paso. Sin embargo, a menudo escribirá o leerá operaciones de corte con menos de 3 parámetros. En esta pregunta, debe volver a escribir todos los ejemplos en operaciones de corte con 3 parámetros. Después de haberlas reescrito, verifique si sus respuestas dan los mismos resultados"
      ],
      "metadata": {
        "id": "8u_OXrb9Lhl_"
      }
    },
    {
      "cell_type": "code",
      "source": [
        "string_1 = 'abcde'\n",
        "print(string_1[1:3])\n",
        "print(string_1[-3:-2])\n",
        "\n",
        "print(string_1[:3])\n",
        "print(string_1[3:])\n",
        "print(string_1[:])\n",
        "\n",
        "print(string_1[-2:])\n",
        "print(string_1[:-2])\n",
        "\n",
        "print(string_1[::])\n",
        "print(string_1[::-1])\n",
        "\n",
        "print(string_1[:3:1])\n",
        "print(string_1[:3:-1])\n",
        "\n",
        "print(string_1[1::])\n",
        "print(string_1[:1:-1])"
      ],
      "metadata": {
        "colab": {
          "base_uri": "https://localhost:8080/"
        },
        "id": "QU3_XoIBMC6m",
        "outputId": "0060aa19-d652-437f-faac-127792b189de"
      },
      "execution_count": null,
      "outputs": [
        {
          "output_type": "stream",
          "name": "stdout",
          "text": [
            "bc\n",
            "c\n",
            "abc\n",
            "de\n",
            "abcde\n",
            "de\n",
            "abc\n",
            "abcde\n",
            "edcba\n",
            "abc\n",
            "e\n",
            "bcde\n",
            "edc\n"
          ]
        }
      ]
    },
    {
      "cell_type": "code",
      "source": [
        "b='abcde'\n",
        "print(b[1:3:1])\n",
        "\n",
        "print(b[-3:-2:1])\n",
        "print(b[:3:1])\n",
        "print(b[3::1])\n",
        "print(b[::1])\n",
        "print(b[-2::1])\n",
        "print(b[:-2:1])\n",
        "print(b[::1])\n",
        "print(b[::-1])\n",
        "print(b[:3:1])\n",
        "print(b[:3:-1])\n",
        "print(b[1::])\n",
        "print(b[:1:-1])"
      ],
      "metadata": {
        "colab": {
          "base_uri": "https://localhost:8080/"
        },
        "id": "cfg2S1dvMSVX",
        "outputId": "3a85d42d-37e9-4f25-8591-84a4cc8b47b7"
      },
      "execution_count": null,
      "outputs": [
        {
          "output_type": "stream",
          "name": "stdout",
          "text": [
            "bc\n",
            "c\n",
            "abc\n",
            "de\n",
            "abcde\n",
            "de\n",
            "abc\n",
            "abcde\n",
            "edcba\n",
            "abc\n",
            "e\n",
            "bcde\n",
            "edc\n"
          ]
        }
      ]
    },
    {
      "cell_type": "markdown",
      "source": [
        "3 Hemos construido un diccionario que se puede usar para encontrar el resultado si dos booleanos están conectados con el operador y\n",
        "Reescribe este diccionario para encontrar el resultado si dos booleanos están conectados con el operador o\n",
        "Python no tiene un operador XOR, busque en Internet lo que se supone que debe hacer el operador XOR y cree un diccionario que proporcione el resultado de una operación XOR"
      ],
      "metadata": {
        "id": "z1Mm8xrxPUGt"
      }
    },
    {
      "cell_type": "code",
      "source": [
        "age = 40\n",
        "blood_type = 'A'\n",
        "my_and = {(True, True): True, (True, False): False, (False, True): False, (False, False): False }\n",
        "print(my_and[age < 70, blood_type == 'B'])"
      ],
      "metadata": {
        "colab": {
          "base_uri": "https://localhost:8080/"
        },
        "id": "1-DrSDwrPTyd",
        "outputId": "981547bb-be34-4e82-d38f-1173683195aa"
      },
      "execution_count": null,
      "outputs": [
        {
          "output_type": "stream",
          "name": "stdout",
          "text": [
            "False\n"
          ]
        }
      ]
    },
    {
      "cell_type": "code",
      "source": [
        "age=40\n",
        "sangre_1='A'\n",
        "sangre_2='B'\n",
        "o={(True,True):True,(True,False):False,(False,True):False,(False,False):False}\n",
        "print(o[age>30, sangre_1=='A'])\n",
        "print([age>50 or sangre_1=='B'])\n",
        "print([sangre_1=='B'or age>50])"
      ],
      "metadata": {
        "colab": {
          "base_uri": "https://localhost:8080/"
        },
        "id": "Hkw9UUJBQUYf",
        "outputId": "4e25c9ac-ae34-4c8a-bfdb-a96b72cf591c"
      },
      "execution_count": null,
      "outputs": [
        {
          "output_type": "stream",
          "name": "stdout",
          "text": [
            "True\n",
            "[False]\n",
            "[False]\n"
          ]
        }
      ]
    },
    {
      "cell_type": "markdown",
      "source": [
        "4 En 'Las listas pueden contener listas y así formar tablas de múltiples dimensiones' se les mostro una secuencia ganadora en tres en raya. Como es muy importante para el análisis de datos y la visualización de datos que se sienta cómodo trabajando con tablas poli-dimensionales, le pedimos que reescriba la secuencia con un segundo jugador más inteligente (o un jugador que aprendió el juego de memoria) donde el juego termina en un empate."
      ],
      "metadata": {
        "id": "lM5-u00MsHAa"
      }
    },
    {
      "cell_type": "code",
      "source": [
        "tic_tac_toe_board = [[' ', ' ', ' '], [' ', ' ', ' '], [' ', ' ', ' ']]\n",
        "print(tic_tac_toe_board[0]) \n",
        "print(tic_tac_toe_board[1]) \n",
        "print(tic_tac_toe_board[2])\n",
        "print() \n",
        "tic_tac_toe_board[1][1] = 'X'\n",
        "print(tic_tac_toe_board[0]) \n",
        "print(tic_tac_toe_board[1]) \n",
        "print(tic_tac_toe_board[2])\n",
        "print() \n",
        "tic_tac_toe_board[1][2] = 'O'\n",
        "print(tic_tac_toe_board[0]) \n",
        "print(tic_tac_toe_board[1]) \n",
        "print(tic_tac_toe_board[2])\n",
        "print()\n",
        "tic_tac_toe_board[0][2] = 'X'\n",
        "print(tic_tac_toe_board[0]) \n",
        "print(tic_tac_toe_board[1]) \n",
        "print(tic_tac_toe_board[2])\n",
        "print()\n",
        "tic_tac_toe_board[2][0] = 'O'\n",
        "print(tic_tac_toe_board[0]) \n",
        "print(tic_tac_toe_board[1]) \n",
        "print(tic_tac_toe_board[2])\n",
        "print()\n",
        "tic_tac_toe_board[0][0] = 'X'\n",
        "print(tic_tac_toe_board[0]) \n",
        "print(tic_tac_toe_board[1]) \n",
        "print(tic_tac_toe_board[2])\n",
        "print()# And the next move X wins independent what player O plays"
      ],
      "metadata": {
        "colab": {
          "base_uri": "https://localhost:8080/"
        },
        "id": "9Gck2-WIss0j",
        "outputId": "b79dc49d-189b-4738-ff10-a1768a7c1759"
      },
      "execution_count": null,
      "outputs": [
        {
          "output_type": "stream",
          "name": "stdout",
          "text": [
            "[' ', ' ', ' ']\n",
            "[' ', ' ', ' ']\n",
            "[' ', ' ', ' ']\n",
            "\n",
            "[' ', ' ', ' ']\n",
            "[' ', 'X', ' ']\n",
            "[' ', ' ', ' ']\n",
            "\n",
            "[' ', ' ', ' ']\n",
            "[' ', 'X', 'O']\n",
            "[' ', ' ', ' ']\n",
            "\n",
            "[' ', ' ', 'X']\n",
            "[' ', 'X', 'O']\n",
            "[' ', ' ', ' ']\n",
            "\n",
            "[' ', ' ', 'X']\n",
            "[' ', 'X', 'O']\n",
            "['O', ' ', ' ']\n",
            "\n",
            "['X', ' ', 'X']\n",
            "[' ', 'X', 'O']\n",
            "['O', ' ', ' ']\n",
            "\n"
          ]
        }
      ]
    },
    {
      "cell_type": "code",
      "source": [
        "tic_tac_toe_board = [[' ', ' ', ' '], [' ', ' ', ' '], [' ', ' ', ' ']]\n",
        "print(tic_tac_toe_board[0]) \n",
        "print(tic_tac_toe_board[1]) \n",
        "print(tic_tac_toe_board[2])\n",
        "print() \n",
        "tic_tac_toe_board[1][1] = 'X'\n",
        "print(tic_tac_toe_board[0]) \n",
        "print(tic_tac_toe_board[1]) \n",
        "print(tic_tac_toe_board[2])\n",
        "print() \n",
        "tic_tac_toe_board[2][2] = 'O'\n",
        "print(tic_tac_toe_board[0]) \n",
        "print(tic_tac_toe_board[1]) \n",
        "print(tic_tac_toe_board[2])\n",
        "print()\n",
        "tic_tac_toe_board[0][2] = 'X'\n",
        "print(tic_tac_toe_board[0]) \n",
        "print(tic_tac_toe_board[1]) \n",
        "print(tic_tac_toe_board[2])\n",
        "print()\n",
        "tic_tac_toe_board[2][0] = 'O'\n",
        "print(tic_tac_toe_board[0]) \n",
        "print(tic_tac_toe_board[1]) \n",
        "print(tic_tac_toe_board[2])\n",
        "print()\n",
        "tic_tac_toe_board[2][1] = 'X'\n",
        "print(tic_tac_toe_board[0]) \n",
        "print(tic_tac_toe_board[1]) \n",
        "print(tic_tac_toe_board[2])\n",
        "print()\n",
        "tic_tac_toe_board[0][1] = 'O'\n",
        "print(tic_tac_toe_board[0]) \n",
        "print(tic_tac_toe_board[1]) \n",
        "print(tic_tac_toe_board[2])\n",
        "print()\n",
        "tic_tac_toe_board[1][0] = 'X'\n",
        "print(tic_tac_toe_board[0]) \n",
        "print(tic_tac_toe_board[1]) \n",
        "print(tic_tac_toe_board[2])\n",
        "print()\n",
        "tic_tac_toe_board[1][2] = 'O'\n",
        "print(tic_tac_toe_board[0]) \n",
        "print(tic_tac_toe_board[1]) \n",
        "print(tic_tac_toe_board[2])\n",
        "print()# And the next move nobody wins"
      ],
      "metadata": {
        "colab": {
          "base_uri": "https://localhost:8080/"
        },
        "id": "vHb_YOsRs5Pi",
        "outputId": "38b974d6-c38f-4556-aa22-5e7ff7cd5726"
      },
      "execution_count": null,
      "outputs": [
        {
          "output_type": "stream",
          "name": "stdout",
          "text": [
            "[' ', ' ', ' ']\n",
            "[' ', ' ', ' ']\n",
            "[' ', ' ', ' ']\n",
            "\n",
            "[' ', ' ', ' ']\n",
            "[' ', 'X', ' ']\n",
            "[' ', ' ', ' ']\n",
            "\n",
            "[' ', ' ', ' ']\n",
            "[' ', 'X', ' ']\n",
            "[' ', ' ', 'O']\n",
            "\n",
            "[' ', ' ', 'X']\n",
            "[' ', 'X', ' ']\n",
            "[' ', ' ', 'O']\n",
            "\n",
            "[' ', ' ', 'X']\n",
            "[' ', 'X', ' ']\n",
            "['O', ' ', 'O']\n",
            "\n",
            "[' ', ' ', 'X']\n",
            "[' ', 'X', ' ']\n",
            "['O', 'X', 'O']\n",
            "\n",
            "[' ', 'O', 'X']\n",
            "[' ', 'X', ' ']\n",
            "['O', 'X', 'O']\n",
            "\n",
            "[' ', 'O', 'X']\n",
            "['X', 'X', ' ']\n",
            "['O', 'X', 'O']\n",
            "\n",
            "[' ', 'O', 'X']\n",
            "['X', 'X', 'O']\n",
            "['O', 'X', 'O']\n",
            "\n"
          ]
        }
      ]
    },
    {
      "cell_type": "markdown",
      "source": [
        "5 Ejecute el siguiente programa, vea si puede encontrar algo extraño y explique el resultado usando su conocimiento de recolección de basura"
      ],
      "metadata": {
        "id": "Q5OJN4tQy4lU"
      }
    },
    {
      "cell_type": "code",
      "source": [
        "list_5 = [1, 2, 3]\n",
        "print(f\"The value of the list refered to by list_5 is {list_5} and its address is {id(list_5)}\")\n",
        "list_5 = [1 , 1, 3]\n",
        "print(f\"The value of the list refered to by list_5 is {list_5} and its address is {id(list_5)}\")\n",
        "list_5 = [1, 1, 4]\n",
        "print(f\"The value of the list refered to by list_5 is {list_5} and its address is {id(list_5)}\")\n",
        "\n",
        "#No hay nada extraño, puesto que, la primera list_5 se elimina por la nueva list_5 del final\n",
        "#por lo tanto, adquiere la misma ID que se obtuvo con aterioridad"
      ],
      "metadata": {
        "colab": {
          "base_uri": "https://localhost:8080/"
        },
        "id": "FSFPTrw3y8_Z",
        "outputId": "486b20d3-2192-48c2-e0a3-c20060f23cc4"
      },
      "execution_count": null,
      "outputs": [
        {
          "output_type": "stream",
          "name": "stdout",
          "text": [
            "The value of the list refered to by list_5 is [1, 2, 3] and its address is 140242546246272\n",
            "The value of the list refered to by list_5 is [1, 1, 3] and its address is 140242546322320\n",
            "The value of the list refered to by list_5 is [1, 1, 4] and its address is 140242546246272\n"
          ]
        }
      ]
    },
    {
      "cell_type": "code",
      "source": [
        ""
      ],
      "metadata": {
        "id": "AuZW0GnaSTBd"
      },
      "execution_count": null,
      "outputs": []
    },
    {
      "cell_type": "markdown",
      "source": [
        "6 Las cadenas son inmutables, pero ¿por qué funciona lo siguiente? ¿Claramente cambiamos el valor de la cadena llamada string_1? ¿Qué afirmaciones agregaría para aclarar lo que ha sucedido? usar id"
      ],
      "metadata": {
        "id": "kQvOFNDi2u0m"
      }
    },
    {
      "cell_type": "code",
      "source": [
        "string_1 = \"text 1\"\n",
        "print(string_1)\n",
        "print(f\"The value of the list refered to by string_1 is {string_1} and its address is {id(string_1)}\")\n",
        "string_1 = \"text 2\"\n",
        "print(string_1)\n",
        "print(f\"The value of the list refered to by string_1 is {string_1} and its address is {id(string_1)}\")"
      ],
      "metadata": {
        "colab": {
          "base_uri": "https://localhost:8080/"
        },
        "id": "Ig3XfPQH2zIp",
        "outputId": "3d278589-413d-49fb-e989-d6188ecaa9a0"
      },
      "execution_count": null,
      "outputs": [
        {
          "output_type": "stream",
          "name": "stdout",
          "text": [
            "text 1\n",
            "The value of the list refered to by string_1 is text 1 and its address is 140242546241456\n",
            "text 2\n",
            "The value of the list refered to by string_1 is text 2 and its address is 140242546245104\n"
          ]
        }
      ]
    },
    {
      "cell_type": "markdown",
      "source": [
        "Funcionan, debido a que no poseen la misma ID, es decir, son diferentes."
      ],
      "metadata": {
        "id": "brCSc-wK3P8g"
      }
    }
  ]
}